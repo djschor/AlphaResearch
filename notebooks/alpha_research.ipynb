{
 "cells": [
  {
   "cell_type": "code",
   "execution_count": null,
   "metadata": {},
   "outputs": [],
   "source": [
    "import pandas as pd\n",
    "import numpy as np\n",
    "from sklearn.linear_model import LinearRegression\n",
    "import matplotlib.pyplot as plt\n"
   ]
  },
  {
   "cell_type": "code",
   "execution_count": null,
   "metadata": {},
   "outputs": [],
   "source": [
    "# Load data\n",
    "data = pd.read_csv('data.csv')\n"
   ]
  },
  {
   "cell_type": "code",
   "execution_count": null,
   "metadata": {},
   "outputs": [],
   "source": [
    "# Preprocessing\n",
    "data['returns'] = data['close'].pct_change()\n",
    "data['volatility'] = data['returns'].rolling(window=20).std()\n",
    "data['z_score'] = (data['returns'] - data['returns'].rolling(window=20).mean()) / data['volatility']"
   ]
  },
  {
   "cell_type": "code",
   "execution_count": null,
   "metadata": {},
   "outputs": [],
   "source": [
    "# Model building\n",
    "X = data[['z_score']]\n",
    "y = data['returns']\n",
    "model = LinearRegression()\n",
    "model.fit(X, y)"
   ]
  },
  {
   "cell_type": "code",
   "execution_count": null,
   "metadata": {},
   "outputs": [],
   "source": [
    "# Calculate alpha factor\n",
    "data['alpha'] = model.predict(X)"
   ]
  },
  {
   "cell_type": "code",
   "execution_count": null,
   "metadata": {},
   "outputs": [],
   "source": [
    "# Evaluate alpha factor\n",
    "alpha_mean = data['alpha'].mean()\n",
    "alpha_std = data['alpha'].std()"
   ]
  },
  {
   "cell_type": "code",
   "execution_count": null,
   "metadata": {},
   "outputs": [],
   "source": [
    "# Plotting\n",
    "plt.plot(data.index, data['alpha'])\n",
    "plt.axhline(alpha_mean, color='red', linestyle='--')\n",
    "plt.axhline(alpha_mean + 2 * alpha_std, color='red', linestyle=':')\n",
    "plt.axhline(alpha_mean - 2 * alpha_std, color='red', linestyle=':')\n",
    "plt.show()"
   ]
  },
  {
   "cell_type": "code",
   "execution_count": null,
   "metadata": {},
   "outputs": [],
   "source": [
    "# Output results\n",
    "print(f\"Alpha mean: {alpha_mean}\")\n",
    "print(f\"Alpha std: {alpha_std}\")"
   ]
  }
 ],
 "metadata": {
  "language_info": {
   "name": "python"
  },
  "orig_nbformat": 4
 },
 "nbformat": 4,
 "nbformat_minor": 2
}
